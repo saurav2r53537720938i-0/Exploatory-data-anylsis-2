{
 "cells": [
  {
   "cell_type": "code",
   "execution_count": 1,
   "id": "2d27a16e-287a-4f76-b1ca-a6c951a76822",
   "metadata": {},
   "outputs": [
    {
     "ename": "SyntaxError",
     "evalue": "unterminated string literal (detected at line 7) (533047796.py, line 7)",
     "output_type": "error",
     "traceback": [
      "\u001b[0;36m  Cell \u001b[0;32mIn[1], line 7\u001b[0;36m\u001b[0m\n\u001b[0;31m    \"flight_price_dataset file path\u001b[0m\n\u001b[0m    ^\u001b[0m\n\u001b[0;31mSyntaxError\u001b[0m\u001b[0;31m:\u001b[0m unterminated string literal (detected at line 7)\n"
     ]
    }
   ],
   "source": [
    "import pandas as pd\n",
    "\n",
    "# Load the dataset\n",
    "flight_data = \n",
    "pd.read_csv(\"flight_price_dataset.csv\")\n",
    "# Replace\n",
    "\"flight_price_dataset file path\n",
    "\n",
    "# Get the dimensions\n",
    "num_rows,num_cols = \n",
    "flight_data.shape\n",
    "print(\"Number of rows:\",num_rows)\n",
    "print(\"Number of columns:\",\n",
    "      num_cols)"
   ]
  },
  {
   "cell_type": "markdown",
   "id": "19f3d81f-b607-4a5e-95f9-2f73cd75308f",
   "metadata": {},
   "source": [
    "To analyze the distribution of flight prices in the dataset and visulize it with a histogram,i will need the flight price data from the dataset.Once you provide that ,i can proceed with creating the histogram for you"
   ]
  },
  {
   "cell_type": "markdown",
   "id": "d60e32a7-d8da-42b1-8595-4395847f897a",
   "metadata": {},
   "source": [
    "To determine the range of prices in the dataset,I need access to the dataset contaning flight prices.Once I have the data ,I can calculate the miniumium and maximum prices to determine the range.Please provide the dataset or the  necessary information and i will be able to assist you further"
   ]
  },
  {
   "cell_type": "markdown",
   "id": "a5556054-c311-4d43-be93-5ac043d27137",
   "metadata": {},
   "source": [
    "To analyze how the of price of flight varies by airline and created a boxplot to compare the prices of diffrent airlines,i will need acess to the dataset contaning flight price and airline information.Once i have the data i can proceed with creating the boxplot for you.please provide"
   ]
  },
  {
   "cell_type": "markdown",
   "id": "1984bbad-5371-4dc2-ac32-50f6aa072cff",
   "metadata": {},
   "source": [
    "To identify potential outliers in the datset,I would need access to the datset contaning flight price.Once i have the data,i can create a boxplot and analyze it to identify any muscel"
   ]
  },
  {
   "cell_type": "markdown",
   "id": "8edf0a7d-a638-4d9a-8c9a-3be9e28036e2",
   "metadata": {},
   "source": [
    "To identify the peak travel i season from the flight price dataset,i would analyse the data based on their i would look for trends or pattern:\n",
    "1. Data prepration\n",
    "2. Grouping\n",
    "3. Analysis\n",
    "4. Visualization\n",
    "5. Conclusion\n",
    "6. Recommendations"
   ]
  },
  {
   "cell_type": "code",
   "execution_count": null,
   "id": "51f2fbfc-1bde-41f8-8f8d-5537a67765b6",
   "metadata": {},
   "outputs": [],
   "source": []
  }
 ],
 "metadata": {
  "kernelspec": {
   "display_name": "Python 3 (ipykernel)",
   "language": "python",
   "name": "python3"
  },
  "language_info": {
   "codemirror_mode": {
    "name": "ipython",
    "version": 3
   },
   "file_extension": ".py",
   "mimetype": "text/x-python",
   "name": "python",
   "nbconvert_exporter": "python",
   "pygments_lexer": "ipython3",
   "version": "3.10.8"
  }
 },
 "nbformat": 4,
 "nbformat_minor": 5
}
